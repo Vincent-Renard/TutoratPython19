{
 "cells": [
  {
   "cell_type": "markdown",
   "metadata": {},
   "source": [
    "# PlusOuMoins"
   ]
  },
  {
   "cell_type": "markdown",
   "metadata": {},
   "source": [
    "Aujourd'hui vous allez développer un mini jeu. Le but de ce jeu est de faire deviner un nombre (entier entre a et b) au joueur.\n",
    "Le joueur dispose d'un nombre fini d'éssais ,si il ne devine pas le nombre en suffisament de coups il a perdu.\n",
    "A chaque essai , le jeu affiche \"Plus\" si le nombre mystère est supérieur au choix de l'utilisateur, \"Moins\" inversement.Si l'utilisateur devide le nombre mystère le jeu affiche \"Gagné\".\n"
   ]
  },
  {
   "cell_type": "markdown",
   "metadata": {},
   "source": [
    "## Etape 0 : Les variables globales\n",
    "* Le nombre aléatoire est tiré entre deux bornes\n",
    "* Le nombre d'essais est fini\n"
   ]
  },
  {
   "cell_type": "code",
   "execution_count": null,
   "metadata": {},
   "outputs": [],
   "source": []
  },
  {
   "cell_type": "markdown",
   "metadata": {},
   "source": [
    "## Etape 1 : Le nombre mystere"
   ]
  },
  {
   "cell_type": "code",
   "execution_count": 2,
   "metadata": {},
   "outputs": [],
   "source": [
    "from random import randint"
   ]
  },
  {
   "cell_type": "markdown",
   "metadata": {},
   "source": [
    "La fonction `randint(borne_inf,borne_sup)` retourne un entier aléatoire entre borne_inf et borne_sup."
   ]
  },
  {
   "cell_type": "markdown",
   "metadata": {},
   "source": [
    "## Etape 2 : La boucle principale"
   ]
  },
  {
   "cell_type": "markdown",
   "metadata": {},
   "source": [
    "La boucle principale parcourt *l'étendue des nombres entre 0 et nb_essais*."
   ]
  },
  {
   "cell_type": "code",
   "execution_count": null,
   "metadata": {},
   "outputs": [],
   "source": [
    "from random import randint\n",
    "borne_inf=0\n",
    "borne_sup=500\n",
    "nbr_mystere=randint(borne_inf,borne_sup)\n",
    "n_essais=10\n",
    "#print(nbr_mystere)\n",
    "\n",
    "\n"
   ]
  },
  {
   "cell_type": "markdown",
   "metadata": {},
   "source": [
    "## Etape 3 : Les tests"
   ]
  },
  {
   "cell_type": "markdown",
   "metadata": {},
   "source": [
    "A chque essai, le nombre entré par l'utilisateur est testé.\n",
    "Trois cas sont à prévoir:\n",
    "* Le nombre est superieur au nombre mystère\n",
    "* Le nombre est inférieur au nombre mystère\n",
    "* Le nombre est égal au nombre mystère\n"
   ]
  },
  {
   "cell_type": "markdown",
   "metadata": {},
   "source": [
    "## Codez"
   ]
  },
  {
   "cell_type": "code",
   "execution_count": null,
   "metadata": {},
   "outputs": [],
   "source": []
  }
 ],
 "metadata": {
  "kernelspec": {
   "display_name": "Python 3",
   "language": "python",
   "name": "python3"
  },
  "language_info": {
   "codemirror_mode": {
    "name": "ipython",
    "version": 3
   },
   "file_extension": ".py",
   "mimetype": "text/x-python",
   "name": "python",
   "nbconvert_exporter": "python",
   "pygments_lexer": "ipython3",
   "version": "3.7.1"
  }
 },
 "nbformat": 4,
 "nbformat_minor": 2
}
