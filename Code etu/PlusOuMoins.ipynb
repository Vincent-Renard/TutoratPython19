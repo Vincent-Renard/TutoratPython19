{
 "cells": [
  {
   "cell_type": "markdown",
   "metadata": {},
   "source": [
    "# PlusOuMoins"
   ]
  },
  {
   "cell_type": "markdown",
   "metadata": {},
   "source": [
    "Aujourd'hui vous allez développer un mini jeu. Le but de ce jeu est de faire deviner un nombre (entier entre a et b) au joueur.\n",
    "Le joueur dispose d'un nombre fini d'éssais ,si il ne devine pas le nombre en suffisament de coups il a perdu.\n",
    "A chaque essai , le jeu affiche \"Plus\" si le nombre mystère est supérieur au choix de l'utilisateur, \"Moins\" inversement.Si l'utilisateur devide le nombre mystère le jeu affiche \"Gagné\".\n"
   ]
  },
  {
   "cell_type": "markdown",
   "metadata": {},
   "source": [
    "## Etape 0 : Les variables globales\n",
    "* Le nombre aléatoire est tiré entre deux bornes\n",
    "* Le nombre d'essais est fini\n"
   ]
  },
  {
   "cell_type": "code",
   "execution_count": null,
   "metadata": {},
   "outputs": [],
   "source": []
  },
  {
   "cell_type": "markdown",
   "metadata": {},
   "source": [
    "## Etape 1 : Le nombre mystere"
   ]
  },
  {
   "cell_type": "code",
   "execution_count": 2,
   "metadata": {},
   "outputs": [],
   "source": [
    "from random import randint"
   ]
  },
  {
   "cell_type": "markdown",
   "metadata": {},
   "source": [
    "La fonction `randint(borne_inf,borne_sup)` retourne un entier aléatoire entre borne_inf et borne_sup."
   ]
  },
  {
   "cell_type": "markdown",
   "metadata": {},
   "source": [
    "## Etape 2 : La boucle principale"
   ]
  },
  {
   "cell_type": "markdown",
   "metadata": {},
   "source": [
    "La boucle principale parcourt *l'étendue des nombres entre 0 et nb_essais*."
   ]
  },
  {
   "cell_type": "code",
   "execution_count": 4,
   "metadata": {},
   "outputs": [],
   "source": [
    "from random import randint\n",
    "borne_inf=0\n",
    "borne_sup=500\n",
    "nbr_mystere=randint(borne_inf,borne_sup)\n",
    "n_essais=10\n",
    "#print(nbr_mystere)\n",
    "\n",
    "\n"
   ]
  },
  {
   "cell_type": "markdown",
   "metadata": {},
   "source": [
    "## Etape 3 : Les tests"
   ]
  },
  {
   "cell_type": "markdown",
   "metadata": {},
   "source": [
    "A chque essai, le nombre entré par l'utilisateur est testé.\n",
    "Trois cas sont à prévoir:\n",
    "* Le nombre est superieur au nombre mystère\n",
    "* Le nombre est inférieur au nombre mystère\n",
    "* Le nombre est égal au nombre mystère\n"
   ]
  },
  {
   "cell_type": "markdown",
   "metadata": {},
   "source": [
    "## Codez"
   ]
  },
  {
   "cell_type": "code",
   "execution_count": 5,
   "metadata": {},
   "outputs": [
    {
     "name": "stdout",
     "output_type": "stream",
     "text": [
      "0 : Entrez un nombre \n",
      "250\n",
      "C'est plus\n",
      "Il ne vous reste plus que  9 essais\n",
      "1 : Entrez un nombre \n",
      "300\n",
      "C'est plus\n",
      "Il ne vous reste plus que  8 essais\n",
      "2 : Entrez un nombre \n",
      "400\n",
      "C'est moins\n",
      "Il ne vous reste plus que  7 essais\n",
      "3 : Entrez un nombre \n",
      "350\n",
      "C'est moins\n",
      "Il ne vous reste plus que  6 essais\n",
      "4 : Entrez un nombre \n",
      "325\n",
      "C'est moins\n",
      "Il ne vous reste plus que  5 essais\n",
      "5 : Entrez un nombre \n",
      "315\n",
      "C'est moins\n",
      "Il ne vous reste plus que  4 essais\n",
      "6 : Entrez un nombre \n",
      "310\n",
      "C'est plus\n",
      "Il ne vous reste plus que  3 essais\n",
      "7 : Entrez un nombre \n",
      "12\n",
      "C'est plus\n",
      "Il ne vous reste plus que  2 essais\n",
      "8 : Entrez un nombre \n",
      "312\n",
      "C'est plus\n",
      "Il ne vous reste plus que  1 essais\n",
      "9 : Entrez un nombre \n",
      "313\n",
      "C'est plus\n",
      "Il ne vous reste plus que  0 essais\n"
     ]
    }
   ],
   "source": [
    "nbr_mystere=randint(borne_inf,borne_sup)\n",
    "for n in range(n_essais):\n",
    "    print(n,\": Entrez un nombre \")\n",
    "    e=int(input())\n",
    "    if e==nbr_mystere:\n",
    "        print(\"Gagné ,en\",n)\n",
    "        break\n",
    "    else:\n",
    "        n_essais-=1\n",
    "        if e<nbr_mystere:\n",
    "            print(\"C'est plus\")\n",
    "        else :\n",
    "            print(\"C'est moins\")\n",
    "    print(\"Il ne vous reste plus que \",n_essais,\"essais\")\n",
    "\n",
    "\n",
    "\n",
    "\n",
    "\n",
    "\n",
    "\n",
    "\n",
    "\n"
   ]
  },
  {
   "cell_type": "code",
   "execution_count": null,
   "metadata": {},
   "outputs": [],
   "source": []
  }
 ],
 "metadata": {
  "kernelspec": {
   "display_name": "Python 3",
   "language": "python",
   "name": "python3"
  }
 },
 "nbformat": 4,
 "nbformat_minor": 2
}
